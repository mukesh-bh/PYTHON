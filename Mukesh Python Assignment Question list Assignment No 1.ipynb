{
 "cells": [
  {
   "cell_type": "markdown",
   "id": "30551ee0",
   "metadata": {},
   "source": [
    "Assignment no 1\n",
    "\n",
    "1. Write a Python program which accepts a sequence of comma-separated numbers from user and generate a list and a tuple with those numbers.\n",
    "\n",
    "Sample data : 3, 5, 7, 23\n",
    "\n",
    "Output :\n",
    "\n",
    "List : ['3', ' 5', ' 7', ' 23']\n",
    "\n",
    "Tuple : ('3', ' 5', ' 7', ' 23')\n"
   ]
  },
  {
   "cell_type": "code",
   "execution_count": 1,
   "id": "d2a987f3",
   "metadata": {},
   "outputs": [
    {
     "name": "stdout",
     "output_type": "stream",
     "text": [
      "Enter comma-separated numbers: 3\n",
      "List: ['3']\n",
      "Tuple: ('3',)\n"
     ]
    }
   ],
   "source": [
    "# Accept comma-separated numbers from the user\n",
    "numbers_input = input(\"Enter comma-separated numbers: \")\n",
    "\n",
    "# Split the input string into a list of numbers\n",
    "numbers_list = numbers_input.split(',')\n",
    "\n",
    "# Create a tuple from the list of numbers\n",
    "numbers_tuple = tuple(numbers_list)\n",
    "\n",
    "# Print the list and tuple\n",
    "print(\"List:\", numbers_list)\n",
    "print(\"Tuple:\", numbers_tuple)\n"
   ]
  },
  {
   "cell_type": "markdown",
   "id": "357c55c6",
   "metadata": {},
   "source": [
    "2. Write a Python program to display the first and last colors from the following list.\n",
    "\n",
    "color_list = [\"Red\",\"Green\",\"White\" ,\"Black\"]\n"
   ]
  },
  {
   "cell_type": "code",
   "execution_count": 2,
   "id": "fbb1b41f",
   "metadata": {},
   "outputs": [
    {
     "name": "stdout",
     "output_type": "stream",
     "text": [
      "First color: Red\n",
      "Last color: Black\n"
     ]
    }
   ],
   "source": [
    "color_list = [\"Red\", \"Green\", \"White\", \"Black\"]\n",
    "\n",
    "# Get the first color from the list\n",
    "first_color = color_list[0]\n",
    "\n",
    "# Get the last color from the list\n",
    "last_color = color_list[-1]\n",
    "\n",
    "# Print the first and last colors\n",
    "print(\"First color:\", first_color)\n",
    "print(\"Last color:\", last_color)\n"
   ]
  },
  {
   "cell_type": "markdown",
   "id": "4beea915",
   "metadata": {},
   "source": [
    "3. Write a Python program to print the even numbers from a given list.\n",
    "\n",
    "Sample List : [1, 2, 3, 4, 5, 6, 7, 8, 9]\n",
    "\n",
    "Expected Result : [2, 4, 6, 8]\n"
   ]
  },
  {
   "cell_type": "code",
   "execution_count": 3,
   "id": "4c619c81",
   "metadata": {},
   "outputs": [
    {
     "name": "stdout",
     "output_type": "stream",
     "text": [
      "Even numbers: [2, 4, 6, 8]\n"
     ]
    }
   ],
   "source": [
    "def print_even_numbers(numbers):\n",
    "    even_numbers = []\n",
    "    for num in numbers:\n",
    "        if num % 2 == 0:\n",
    "            even_numbers.append(num)\n",
    "    return even_numbers\n",
    "\n",
    "# Sample List\n",
    "numbers_list = [1, 2, 3, 4, 5, 6, 7, 8, 9]\n",
    "\n",
    "# Print the even numbers from the list\n",
    "even_numbers = print_even_numbers(numbers_list)\n",
    "print(\"Even numbers:\", even_numbers)\n"
   ]
  },
  {
   "cell_type": "code",
   "execution_count": null,
   "id": "9b7f920e",
   "metadata": {},
   "outputs": [],
   "source": []
  }
 ],
 "metadata": {
  "kernelspec": {
   "display_name": "Python 3 (ipykernel)",
   "language": "python",
   "name": "python3"
  },
  "language_info": {
   "codemirror_mode": {
    "name": "ipython",
    "version": 3
   },
   "file_extension": ".py",
   "mimetype": "text/x-python",
   "name": "python",
   "nbconvert_exporter": "python",
   "pygments_lexer": "ipython3",
   "version": "3.9.12"
  }
 },
 "nbformat": 4,
 "nbformat_minor": 5
}
