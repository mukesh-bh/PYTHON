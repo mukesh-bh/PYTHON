{
 "cells": [
  {
   "cell_type": "markdown",
   "id": "5db163b7",
   "metadata": {},
   "source": [
    "Assignment 6\n",
    "\n",
    "1. Write a Python program to add, subtract, multiple and divide two Pandas Series.\n",
    "\n",
    "Sample Series: [2, 4, 6, 8, 10], [1, 3, 5, 7, 9]\n"
   ]
  },
  {
   "cell_type": "code",
   "execution_count": 1,
   "id": "1edd92cf",
   "metadata": {},
   "outputs": [
    {
     "name": "stdout",
     "output_type": "stream",
     "text": [
      "Addition:\n",
      "0     3\n",
      "1     7\n",
      "2    11\n",
      "3    15\n",
      "4    19\n",
      "dtype: int64\n",
      "\n",
      "Subtraction:\n",
      "0    1\n",
      "1    1\n",
      "2    1\n",
      "3    1\n",
      "4    1\n",
      "dtype: int64\n",
      "\n",
      "Multiplication:\n",
      "0     2\n",
      "1    12\n",
      "2    30\n",
      "3    56\n",
      "4    90\n",
      "dtype: int64\n",
      "\n",
      "Division:\n",
      "0    2.000000\n",
      "1    1.333333\n",
      "2    1.200000\n",
      "3    1.142857\n",
      "4    1.111111\n",
      "dtype: float64\n"
     ]
    }
   ],
   "source": [
    "import pandas as pd\n",
    "\n",
    "# Create the sample Series\n",
    "series1 = pd.Series([2, 4, 6, 8, 10])\n",
    "series2 = pd.Series([1, 3, 5, 7, 9])\n",
    "\n",
    "# Perform addition\n",
    "addition = series1 + series2\n",
    "\n",
    "# Perform subtraction\n",
    "subtraction = series1 - series2\n",
    "\n",
    "# Perform multiplication\n",
    "multiplication = series1 * series2\n",
    "\n",
    "# Perform division\n",
    "division = series1 / series2\n",
    "\n",
    "# Print the results\n",
    "print(\"Addition:\")\n",
    "print(addition)\n",
    "print(\"\\nSubtraction:\")\n",
    "print(subtraction)\n",
    "print(\"\\nMultiplication:\")\n",
    "print(multiplication)\n",
    "print(\"\\nDivision:\")\n",
    "print(division)\n"
   ]
  },
  {
   "cell_type": "code",
   "execution_count": null,
   "id": "ff61d050",
   "metadata": {},
   "outputs": [],
   "source": []
  }
 ],
 "metadata": {
  "kernelspec": {
   "display_name": "Python 3 (ipykernel)",
   "language": "python",
   "name": "python3"
  },
  "language_info": {
   "codemirror_mode": {
    "name": "ipython",
    "version": 3
   },
   "file_extension": ".py",
   "mimetype": "text/x-python",
   "name": "python",
   "nbconvert_exporter": "python",
   "pygments_lexer": "ipython3",
   "version": "3.9.12"
  }
 },
 "nbformat": 4,
 "nbformat_minor": 5
}
