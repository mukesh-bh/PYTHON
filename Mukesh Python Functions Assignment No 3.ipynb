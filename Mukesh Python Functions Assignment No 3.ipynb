{
 "cells": [
  {
   "cell_type": "markdown",
   "id": "e837cdbf",
   "metadata": {},
   "source": [
    "Assignment 3\n",
    "\n",
    "1. Write a Python program to get the volume of a sphere with radius 6.\n"
   ]
  },
  {
   "cell_type": "code",
   "execution_count": 1,
   "id": "9a362d24",
   "metadata": {},
   "outputs": [
    {
     "name": "stdout",
     "output_type": "stream",
     "text": [
      "The volume of the sphere with radius 6 is: 904.7786842338603\n"
     ]
    }
   ],
   "source": [
    "import math\n",
    "\n",
    "def calculate_sphere_volume(radius):\n",
    "    # Calculate the volume of the sphere\n",
    "    volume = (4/3) * math.pi * (radius**3)\n",
    "    \n",
    "    return volume\n",
    "\n",
    "# Radius of the sphere\n",
    "radius = 6\n",
    "\n",
    "# Calculate the volume of the sphere\n",
    "sphere_volume = calculate_sphere_volume(radius)\n",
    "\n",
    "# Print the result\n",
    "print(f\"The volume of the sphere with radius {radius} is: {sphere_volume}\")\n"
   ]
  },
  {
   "cell_type": "markdown",
   "id": "008e6c01",
   "metadata": {},
   "source": [
    "2. Write a Python program to calculate the sum of three given numbers, if the values are equal then return three times of their sum hint: write User defined functions"
   ]
  },
  {
   "cell_type": "code",
   "execution_count": 2,
   "id": "53341a8c",
   "metadata": {},
   "outputs": [
    {
     "name": "stdout",
     "output_type": "stream",
     "text": [
      "Enter the first number: 10\n",
      "Enter the second number: 11\n",
      "Enter the third number: 13\n",
      "The sum is: 34\n"
     ]
    }
   ],
   "source": [
    "def calculate_sum(a, b, c):\n",
    "    # Calculate the sum of the three numbers\n",
    "    sum_of_numbers = a + b + c\n",
    "\n",
    "    # Check if the numbers are equal\n",
    "    if a == b == c:\n",
    "        # Return three times their sum\n",
    "        return 3 * sum_of_numbers\n",
    "    else:\n",
    "        # Return the normal sum\n",
    "        return sum_of_numbers\n",
    "\n",
    "# Get the three numbers from the user\n",
    "a = int(input(\"Enter the first number: \"))\n",
    "b = int(input(\"Enter the second number: \"))\n",
    "c = int(input(\"Enter the third number: \"))\n",
    "\n",
    "# Calculate the sum based on the numbers\n",
    "result = calculate_sum(a, b, c)\n",
    "\n",
    "# Print the result\n",
    "print(\"The sum is:\", result)\n"
   ]
  },
  {
   "cell_type": "markdown",
   "id": "cc52a403",
   "metadata": {},
   "source": [
    "3. Write a Python program to count the number 4 in a given list.\n",
    "\n",
    "List = [1,4,6,8,4,9,4]\n"
   ]
  },
  {
   "cell_type": "code",
   "execution_count": 3,
   "id": "edbf8770",
   "metadata": {},
   "outputs": [
    {
     "name": "stdout",
     "output_type": "stream",
     "text": [
      "The number 4 appears 3 times in the list.\n"
     ]
    }
   ],
   "source": [
    "def count_number_of_4(lst):\n",
    "    # Count the number of occurrences of 4 in the list\n",
    "    count = lst.count(4)\n",
    "    \n",
    "    return count\n",
    "\n",
    "# Given list\n",
    "my_list = [1, 4, 6, 8, 4, 9, 4]\n",
    "\n",
    "# Count the number of occurrences of 4 in the list\n",
    "count_of_4 = count_number_of_4(my_list)\n",
    "\n",
    "# Print the result\n",
    "print(f\"The number 4 appears {count_of_4} times in the list.\")\n"
   ]
  },
  {
   "cell_type": "markdown",
   "id": "b50cc1d2",
   "metadata": {},
   "source": [
    "4. Write a Python program to print all even numbers from a given numbers list in the same order and stop the printing if any numbers that come after 237 in the sequence. Go to the editorSample numbers list :\n",
    "\n",
    "399, 162, 758, 219, 918, 237, 412, 566, 826, 248, 866, 950, 626, 949, 687, 217,\n",
    "815, 67, 104, 58, 512, 24, 892, 894, 767, 553, 81, 379, 843, 831, 445, 742, 717,\n",
    "958,743, 527]\n"
   ]
  },
  {
   "cell_type": "code",
   "execution_count": 6,
   "id": "9afcdb84",
   "metadata": {},
   "outputs": [
    {
     "name": "stdout",
     "output_type": "stream",
     "text": [
      "162\n",
      "758\n",
      "918\n"
     ]
    }
   ],
   "source": [
    "def print_even_numbers(numbers):\n",
    "    # Iterate through the numbers in the list\n",
    "    for num in numbers:\n",
    "        # Check if the number is even\n",
    "        if num % 2 == 0:\n",
    "            # Print the even number\n",
    "            print(num)\n",
    "        \n",
    "        # Check if the number is 237\n",
    "        if num == 237:\n",
    "            # Stop printing further numbers\n",
    "            break\n",
    "\n",
    "# Given numbers list\n",
    "numbers_list = [399, 162, 758, 219, 918, 237, 412, 566, 826, 248, 866, 950, 626, 949, 687,\n",
    "                217, 815, 67, 104, 58, 512, 24, 892, 894, 767, 553, 81, 379, 843, 831,\n",
    "                445, 742, 717, 958, 743, 527]\n",
    "\n",
    "# Call the function to print even numbers\n",
    "print_even_numbers(numbers_list)\n"
   ]
  },
  {
   "cell_type": "markdown",
   "id": "5ecf7275",
   "metadata": {},
   "source": [
    "5. Write a Python program to find those numbers which are divisible by 7 and multiple of 5, between 1500 and 2700 (both included)"
   ]
  },
  {
   "cell_type": "code",
   "execution_count": 7,
   "id": "3bfc3615",
   "metadata": {},
   "outputs": [
    {
     "name": "stdout",
     "output_type": "stream",
     "text": [
      "[1505, 1540, 1575, 1610, 1645, 1680, 1715, 1750, 1785, 1820, 1855, 1890, 1925, 1960, 1995, 2030, 2065, 2100, 2135, 2170, 2205, 2240, 2275, 2310, 2345, 2380, 2415, 2450, 2485, 2520, 2555, 2590, 2625, 2660, 2695]\n"
     ]
    }
   ],
   "source": [
    "def find_numbers():\n",
    "    numbers = []\n",
    "    \n",
    "    # Iterate through the range from 1500 to 2700 (both inclusive)\n",
    "    for num in range(1500, 2701):\n",
    "        # Check if the number is divisible by 7 and a multiple of 5\n",
    "        if num % 7 == 0 and num % 5 == 0:\n",
    "            # Add the number to the list\n",
    "            numbers.append(num)\n",
    "    \n",
    "    return numbers\n",
    "\n",
    "# Call the function to find the numbers\n",
    "result = find_numbers()\n",
    "\n",
    "# Print the numbers\n",
    "print(result)\n"
   ]
  },
  {
   "cell_type": "markdown",
   "id": "732ceef6",
   "metadata": {},
   "source": [
    "6. Write a Python program that prints all the numbers from 0 to 6 except 3 and 6.\n",
    "\n",
    "Note : Use 'continue' statement.\n",
    "Expected Output : 0 1 2 4 5\n"
   ]
  },
  {
   "cell_type": "code",
   "execution_count": 8,
   "id": "f30568c9",
   "metadata": {},
   "outputs": [
    {
     "name": "stdout",
     "output_type": "stream",
     "text": [
      "0 1 2 4 5 "
     ]
    }
   ],
   "source": [
    "for num in range(7):\n",
    "    if num == 3 or num == 6:\n",
    "        continue\n",
    "    print(num, end=' ')\n"
   ]
  },
  {
   "cell_type": "markdown",
   "id": "0a90c1b8",
   "metadata": {},
   "source": [
    "7. Write a Python program to get the Fibonacci series between 0 to 50.\n",
    "\n",
    "Note : The Fibonacci Sequence is the series of numbers :\n",
    "0, 1, 1, 2, 3, 5, 8, 13, 21, ....\n",
    "\n",
    "Every next number is found by adding up the two numbers before it.\n",
    "Expected Output : 1 1 2 3 5 8 13 21 34\n"
   ]
  },
  {
   "cell_type": "code",
   "execution_count": 9,
   "id": "f109e414",
   "metadata": {},
   "outputs": [
    {
     "name": "stdout",
     "output_type": "stream",
     "text": [
      "0 1 1 2 3 5 8 13 21 34 "
     ]
    }
   ],
   "source": [
    "def fibonacci_series(limit):\n",
    "    # Initialize the first two numbers of the series\n",
    "    num1, num2 = 0, 1\n",
    "\n",
    "    # Print the first number (0) separately as it doesn't follow the pattern\n",
    "    print(num1, end=' ')\n",
    "\n",
    "    # Generate the Fibonacci series until the limit is reached\n",
    "    while num2 <= limit:\n",
    "        print(num2, end=' ')\n",
    "        num1, num2 = num2, num1 + num2\n",
    "\n",
    "# Set the limit\n",
    "limit = 50\n",
    "\n",
    "# Call the function to generate the Fibonacci series\n",
    "fibonacci_series(limit)\n"
   ]
  },
  {
   "cell_type": "markdown",
   "id": "75f4ca1f",
   "metadata": {},
   "source": [
    "8. Write a Python program to get the Fibonacci series between 0 to 50.\n",
    "\n",
    "0, 1, 1, 2, 3, 5, 8, 13, 21, ....\n",
    "\n",
    "Every next number is found by adding up the two numbers before it.\n",
    "\n",
    "Expected Output : 1 1 2 3 5 8 13 21 34\n"
   ]
  },
  {
   "cell_type": "code",
   "execution_count": 10,
   "id": "d149901e",
   "metadata": {},
   "outputs": [
    {
     "name": "stdout",
     "output_type": "stream",
     "text": [
      "0 1 1 2 3 5 8 13 21 34 "
     ]
    }
   ],
   "source": [
    "def fibonacci_series(limit):\n",
    "    # Initialize the first two numbers of the series\n",
    "    num1, num2 = 0, 1\n",
    "\n",
    "    # Check if the first number is within the limit\n",
    "    if num1 <= limit:\n",
    "        print(num1, end=' ')\n",
    "\n",
    "    # Generate the Fibonacci series until the limit is reached\n",
    "    while num2 <= limit:\n",
    "        print(num2, end=' ')\n",
    "        num1, num2 = num2, num1 + num2\n",
    "\n",
    "# Set the limit\n",
    "limit = 50\n",
    "\n",
    "# Call the function to generate the Fibonacci series\n",
    "fibonacci_series(limit)\n"
   ]
  },
  {
   "cell_type": "markdown",
   "id": "5ccca0ed",
   "metadata": {},
   "source": [
    "9. Write a Python function that takes a list and returns a new list with unique elements of the first list.\n",
    "\n",
    "Sample List : [1,2,3,3,3,3,4,5]\n",
    "\n",
    "Unique List : [1, 2, 3, 4, 5]\n"
   ]
  },
  {
   "cell_type": "code",
   "execution_count": 11,
   "id": "1b7683f5",
   "metadata": {},
   "outputs": [
    {
     "name": "stdout",
     "output_type": "stream",
     "text": [
      "[1, 2, 3, 4, 5]\n"
     ]
    }
   ],
   "source": [
    "def get_unique_elements(input_list):\n",
    "    unique_list = list(set(input_list))\n",
    "    return unique_list\n",
    "\n",
    "# Sample List\n",
    "sample_list = [1, 2, 3, 3, 3, 3, 4, 5]\n",
    "\n",
    "# Get unique elements of the list\n",
    "unique_list = get_unique_elements(sample_list)\n",
    "\n",
    "# Print the unique list\n",
    "print(unique_list)\n"
   ]
  },
  {
   "cell_type": "code",
   "execution_count": null,
   "id": "94e64d5a",
   "metadata": {},
   "outputs": [],
   "source": []
  }
 ],
 "metadata": {
  "kernelspec": {
   "display_name": "Python 3 (ipykernel)",
   "language": "python",
   "name": "python3"
  },
  "language_info": {
   "codemirror_mode": {
    "name": "ipython",
    "version": 3
   },
   "file_extension": ".py",
   "mimetype": "text/x-python",
   "name": "python",
   "nbconvert_exporter": "python",
   "pygments_lexer": "ipython3",
   "version": "3.9.12"
  }
 },
 "nbformat": 4,
 "nbformat_minor": 5
}
