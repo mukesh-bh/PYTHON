{
 "cells": [
  {
   "cell_type": "markdown",
   "id": "e582debf",
   "metadata": {},
   "source": [
    "Assignment 2 \n",
    "\n",
    "1. Write a Python program to calculate number of days between two dates. Hint: use Datetime package/module.\n",
    "Sample dates : (2014, 7, 2), (2014, 7, 11)\n"
   ]
  },
  {
   "cell_type": "code",
   "execution_count": 1,
   "id": "52619cce",
   "metadata": {},
   "outputs": [
    {
     "name": "stdout",
     "output_type": "stream",
     "text": [
      "The number of days between (2014, 7, 2) and (2014, 7, 11) is 9 days.\n"
     ]
    }
   ],
   "source": [
    "from datetime import date\n",
    "\n",
    "def calculate_days_between_dates(date1, date2):\n",
    "    # Create date objects for the given dates\n",
    "    date1_obj = date(date1[0], date1[1], date1[2])\n",
    "    date2_obj = date(date2[0], date2[1], date2[2])\n",
    "\n",
    "    # Calculate the difference between the dates\n",
    "    delta = date2_obj - date1_obj\n",
    "\n",
    "    # Return the number of days\n",
    "    return delta.days\n",
    "\n",
    "# Sample dates\n",
    "date1 = (2014, 7, 2)\n",
    "date2 = (2014, 7, 11)\n",
    "\n",
    "# Calculate the number of days between the dates\n",
    "days_between = calculate_days_between_dates(date1, date2)\n",
    "\n",
    "# Print the result\n",
    "print(f\"The number of days between {date1} and {date2} is {days_between} days.\")\n"
   ]
  },
  {
   "cell_type": "code",
   "execution_count": null,
   "id": "3dabc881",
   "metadata": {},
   "outputs": [],
   "source": []
  }
 ],
 "metadata": {
  "kernelspec": {
   "display_name": "Python 3 (ipykernel)",
   "language": "python",
   "name": "python3"
  },
  "language_info": {
   "codemirror_mode": {
    "name": "ipython",
    "version": 3
   },
   "file_extension": ".py",
   "mimetype": "text/x-python",
   "name": "python",
   "nbconvert_exporter": "python",
   "pygments_lexer": "ipython3",
   "version": "3.9.12"
  }
 },
 "nbformat": 4,
 "nbformat_minor": 5
}
