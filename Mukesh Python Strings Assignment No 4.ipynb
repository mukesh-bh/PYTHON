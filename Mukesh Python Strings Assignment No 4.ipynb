{
 "cells": [
  {
   "cell_type": "markdown",
   "id": "1ecae0d3",
   "metadata": {},
   "source": [
    "Assignment 4\n",
    "\n",
    "\n",
    "1. Write a Python program to concatenate all elements in a list into a string and return it.\n"
   ]
  },
  {
   "cell_type": "code",
   "execution_count": 1,
   "id": "78cb3d1f",
   "metadata": {},
   "outputs": [
    {
     "name": "stdout",
     "output_type": "stream",
     "text": [
      "The concatenated string is: Hello World!\n"
     ]
    }
   ],
   "source": [
    "def concatenate_list_elements(lst):\n",
    "    # Use the join() method to concatenate the elements\n",
    "    concatenated_string = ''.join(lst)\n",
    "\n",
    "    # Return the concatenated string\n",
    "    return concatenated_string\n",
    "\n",
    "# Sample list\n",
    "my_list = ['Hello', ' ', 'World', '!']\n",
    "\n",
    "# Concatenate the elements of the list into a string\n",
    "result = concatenate_list_elements(my_list)\n",
    "\n",
    "# Print the result\n",
    "print(f\"The concatenated string is: {result}\")\n"
   ]
  },
  {
   "cell_type": "code",
   "execution_count": null,
   "id": "29b61d76",
   "metadata": {},
   "outputs": [],
   "source": []
  }
 ],
 "metadata": {
  "kernelspec": {
   "display_name": "Python 3 (ipykernel)",
   "language": "python",
   "name": "python3"
  },
  "language_info": {
   "codemirror_mode": {
    "name": "ipython",
    "version": 3
   },
   "file_extension": ".py",
   "mimetype": "text/x-python",
   "name": "python",
   "nbconvert_exporter": "python",
   "pygments_lexer": "ipython3",
   "version": "3.9.12"
  }
 },
 "nbformat": 4,
 "nbformat_minor": 5
}
