{
 "cells": [
  {
   "cell_type": "markdown",
   "id": "4c77b2f2",
   "metadata": {},
   "source": [
    "Assignment no 8\n",
    "\n",
    "1. Write Python Programs to use various operators in Python\n"
   ]
  },
  {
   "cell_type": "markdown",
   "id": "dd94d91e",
   "metadata": {},
   "source": [
    "Arithmatic operator:"
   ]
  },
  {
   "cell_type": "code",
   "execution_count": 1,
   "id": "25f4084c",
   "metadata": {},
   "outputs": [
    {
     "name": "stdout",
     "output_type": "stream",
     "text": [
      "Addition: 15\n",
      "Subtraction: 5\n",
      "Multiplication: 50\n",
      "Division: 2.0\n",
      "Modulus: 0\n",
      "Exponentiation: 100000\n",
      "Floor Division: 2\n"
     ]
    }
   ],
   "source": [
    "# Addition\n",
    "num1 = 10\n",
    "num2 = 5\n",
    "result = num1 + num2\n",
    "print(\"Addition:\", result)\n",
    "\n",
    "# Subtraction\n",
    "result = num1 - num2\n",
    "print(\"Subtraction:\", result)\n",
    "\n",
    "# Multiplication\n",
    "result = num1 * num2\n",
    "print(\"Multiplication:\", result)\n",
    "\n",
    "# Division\n",
    "result = num1 / num2\n",
    "print(\"Division:\", result)\n",
    "\n",
    "# Modulus\n",
    "result = num1 % num2\n",
    "print(\"Modulus:\", result)\n",
    "\n",
    "# Exponentiation\n",
    "result = num1 ** num2\n",
    "print(\"Exponentiation:\", result)\n",
    "\n",
    "# Floor Division\n",
    "result = num1 // num2\n",
    "print(\"Floor Division:\", result)\n"
   ]
  },
  {
   "cell_type": "markdown",
   "id": "5b2140b0",
   "metadata": {},
   "source": [
    "Comparison Operators:"
   ]
  },
  {
   "cell_type": "code",
   "execution_count": 2,
   "id": "a2da23a2",
   "metadata": {},
   "outputs": [
    {
     "name": "stdout",
     "output_type": "stream",
     "text": [
      "Equal to: False\n",
      "Not equal to: True\n",
      "Greater than: True\n",
      "Less than: False\n",
      "Greater than or equal to: True\n",
      "Less than or equal to: False\n"
     ]
    }
   ],
   "source": [
    "num1 = 10\n",
    "num2 = 5\n",
    "\n",
    "# Equal to\n",
    "print(\"Equal to:\", num1 == num2)\n",
    "\n",
    "# Not equal to\n",
    "print(\"Not equal to:\", num1 != num2)\n",
    "\n",
    "# Greater than\n",
    "print(\"Greater than:\", num1 > num2)\n",
    "\n",
    "# Less than\n",
    "print(\"Less than:\", num1 < num2)\n",
    "\n",
    "# Greater than or equal to\n",
    "print(\"Greater than or equal to:\", num1 >= num2)\n",
    "\n",
    "# Less than or equal to\n",
    "print(\"Less than or equal to:\", num1 <= num2)\n"
   ]
  },
  {
   "cell_type": "markdown",
   "id": "9618a647",
   "metadata": {},
   "source": [
    "Logical Operators:"
   ]
  },
  {
   "cell_type": "code",
   "execution_count": 3,
   "id": "4174deff",
   "metadata": {},
   "outputs": [
    {
     "name": "stdout",
     "output_type": "stream",
     "text": [
      "AND operator: True\n",
      "OR operator: True\n",
      "NOT operator: False\n"
     ]
    }
   ],
   "source": [
    "num1 = 10\n",
    "num2 = 5\n",
    "\n",
    "# AND operator\n",
    "print(\"AND operator:\", num1 > 0 and num2 > 0)\n",
    "\n",
    "# OR operator\n",
    "print(\"OR operator:\", num1 > 0 or num2 > 0)\n",
    "\n",
    "# NOT operator\n",
    "print(\"NOT operator:\", not(num1 > 0))\n"
   ]
  },
  {
   "cell_type": "markdown",
   "id": "2b7a3f15",
   "metadata": {},
   "source": [
    "Assignment Operators:"
   ]
  },
  {
   "cell_type": "code",
   "execution_count": 4,
   "id": "cb6266e1",
   "metadata": {},
   "outputs": [
    {
     "name": "stdout",
     "output_type": "stream",
     "text": [
      "Addition assignment: 15\n",
      "Subtraction assignment: 12\n",
      "Multiplication assignment: 24\n",
      "Division assignment: 6.0\n",
      "Modulus assignment: 0.0\n",
      "Exponentiation assignment: 0.0\n",
      "Floor division assignment: 0.0\n"
     ]
    }
   ],
   "source": [
    "num = 10\n",
    "\n",
    "# Addition assignment\n",
    "num += 5\n",
    "print(\"Addition assignment:\", num)\n",
    "\n",
    "# Subtraction assignment\n",
    "num -= 3\n",
    "print(\"Subtraction assignment:\", num)\n",
    "\n",
    "# Multiplication assignment\n",
    "num *= 2\n",
    "print(\"Multiplication assignment:\", num)\n",
    "\n",
    "# Division assignment\n",
    "num /= 4\n",
    "print(\"Division assignment:\", num)\n",
    "\n",
    "# Modulus assignment\n",
    "num %= 3\n",
    "print(\"Modulus assignment:\", num)\n",
    "\n",
    "# Exponentiation assignment\n",
    "num **= 2\n",
    "print(\"Exponentiation assignment:\", num)\n",
    "\n",
    "# Floor division assignment\n",
    "num //= 2\n",
    "print(\"Floor division assignment:\", num)\n"
   ]
  },
  {
   "cell_type": "markdown",
   "id": "11e638a5",
   "metadata": {},
   "source": [
    "2. Create list of elements and slice and dice it"
   ]
  },
  {
   "cell_type": "code",
   "execution_count": 5,
   "id": "5a1e996a",
   "metadata": {},
   "outputs": [
    {
     "name": "stdout",
     "output_type": "stream",
     "text": [
      "Subset: [3, 4, 5, 6, 7]\n",
      "Every Second Element: [1, 3, 5, 7, 9]\n",
      "Reversed List: [10, 9, 8, 7, 6, 5, 4, 3, 2, 1]\n"
     ]
    }
   ],
   "source": [
    "# Create a list of elements\n",
    "my_list = [1, 2, 3, 4, 5, 6, 7, 8, 9, 10]\n",
    "\n",
    "# Slice the list to get a subset\n",
    "subset = my_list[2:7]\n",
    "print(\"Subset:\", subset)  # Output: [3, 4, 5, 6, 7]\n",
    "\n",
    "# Slice the list to get every second element\n",
    "every_second = my_list[::2]\n",
    "print(\"Every Second Element:\", every_second)  # Output: [1, 3, 5, 7, 9]\n",
    "\n",
    "# Reverse the list\n",
    "reversed_list = my_list[::-1]\n",
    "print(\"Reversed List:\", reversed_list)  # Output: [10, 9, 8, 7, 6, 5, 4, 3, 2, 1]\n"
   ]
  },
  {
   "cell_type": "markdown",
   "id": "bbbe7732",
   "metadata": {},
   "source": [
    "3. Using while loop accept numbers until sum of numbers is less than 100"
   ]
  },
  {
   "cell_type": "code",
   "execution_count": 6,
   "id": "3cc6178c",
   "metadata": {},
   "outputs": [
    {
     "name": "stdout",
     "output_type": "stream",
     "text": [
      "Enter a number: 50\n",
      "Enter a number: 50\n",
      "Sum of numbers is: 100\n"
     ]
    }
   ],
   "source": [
    "total = 0\n",
    "\n",
    "while total < 100:\n",
    "    num = int(input(\"Enter a number: \"))\n",
    "    total += num\n",
    "\n",
    "print(\"Sum of numbers is:\", total)\n"
   ]
  },
  {
   "cell_type": "markdown",
   "id": "265cc020",
   "metadata": {},
   "source": [
    "4. Write a python program Read & write Excel files "
   ]
  },
  {
   "cell_type": "code",
   "execution_count": null,
   "id": "352f070f",
   "metadata": {},
   "outputs": [],
   "source": [
    "import pandas as pd\n",
    "\n",
    "# Read Excel file\n",
    "data = pd.read_excel(\"file path\")\n",
    "\n",
    "# Print the contents of the Excel file\n",
    "print(data)\n",
    "\n",
    "import pandas as pd\n",
    "\n",
    "# Create a DataFrame\n",
    "data = {\n",
    "    'Name': ['John', 'Jane', 'Mike'],\n",
    "    'Age': [25, 30, 35],\n",
    "    'City': ['New York', 'London', 'Paris']\n",
    "}\n",
    "\n",
    "df = pd.DataFrame(data)\n",
    "\n",
    "# Write DataFrame to Excel file\n",
    "df.to_excel('output.xlsx', index=False)\n",
    "\n",
    "\n"
   ]
  },
  {
   "cell_type": "markdown",
   "id": "ccc343ef",
   "metadata": {},
   "source": [
    "5. Write a python program to scrape reviews from a commercial web site"
   ]
  },
  {
   "cell_type": "code",
   "execution_count": 15,
   "id": "b0cf7e4e",
   "metadata": {},
   "outputs": [
    {
     "name": "stdout",
     "output_type": "stream",
     "text": [
      "Failed to retrieve the webpage. Status code: 404\n"
     ]
    }
   ],
   "source": [
    "import requests\n",
    "from bs4 import BeautifulSoup\n",
    "\n",
    "# Define the URL of the webpage containing the reviews\n",
    "url = 'https://www.example.com/reviews'\n",
    "\n",
    "# Send a GET request to the webpage\n",
    "response = requests.get(url)\n",
    "\n",
    "# Check if the request was successful (status code 200)\n",
    "if response.status_code == 200:\n",
    "    # Parse the HTML content of the webpage\n",
    "    soup = BeautifulSoup(response.content, 'html.parser')\n",
    "\n",
    "    # Find the elements containing the reviews\n",
    "    review_elements = soup.find_all('div', class_='review')\n",
    "\n",
    "    # Extract and print the reviews\n",
    "    for review in review_elements:\n",
    "        review_text = review.text.strip()\n",
    "        print(review_text)\n",
    "else:\n",
    "    print('Failed to retrieve the webpage. Status code:', response.status_code)\n"
   ]
  },
  {
   "cell_type": "markdown",
   "id": "2635de99",
   "metadata": {},
   "source": [
    "6. Create a 3x3 matrix with values ranging from 2 to 10 using numpy"
   ]
  },
  {
   "cell_type": "code",
   "execution_count": 16,
   "id": "00d24ec0",
   "metadata": {},
   "outputs": [
    {
     "name": "stdout",
     "output_type": "stream",
     "text": [
      "[[ 2  3  4]\n",
      " [ 5  6  7]\n",
      " [ 8  9 10]]\n"
     ]
    }
   ],
   "source": [
    "import numpy as np\n",
    "\n",
    "# Create a 1D array with values ranging from 2 to 10\n",
    "arr = np.arange(2, 11)\n",
    "\n",
    "# Reshape the 1D array into a 3x3 matrix\n",
    "matrix = np.reshape(arr, (3, 3))\n",
    "\n",
    "# Print the matrix\n",
    "print(matrix)\n"
   ]
  },
  {
   "cell_type": "markdown",
   "id": "d5317ad0",
   "metadata": {},
   "source": [
    "7. Write a Python program to convert a list of numeric value into a one-dimensional NumPy array"
   ]
  },
  {
   "cell_type": "code",
   "execution_count": 17,
   "id": "2c4a6310",
   "metadata": {},
   "outputs": [
    {
     "name": "stdout",
     "output_type": "stream",
     "text": [
      "[1 2 3 4 5]\n"
     ]
    }
   ],
   "source": [
    "import numpy as np\n",
    "\n",
    "# List of numeric values\n",
    "my_list = [1, 2, 3, 4, 5]\n",
    "\n",
    "# Convert the list to a NumPy array\n",
    "my_array = np.array(my_list)\n",
    "\n",
    "# Print the array\n",
    "print(my_array)\n"
   ]
  },
  {
   "cell_type": "markdown",
   "id": "4725a0dc",
   "metadata": {},
   "source": [
    "8. \"Write a Python program to create a null vector of size 10 and update sixth value to 11."
   ]
  },
  {
   "cell_type": "code",
   "execution_count": 18,
   "id": "003253ad",
   "metadata": {},
   "outputs": [
    {
     "name": "stdout",
     "output_type": "stream",
     "text": [
      "[ 0.  0.  0.  0.  0. 11.  0.  0.  0.  0.]\n"
     ]
    }
   ],
   "source": [
    "import numpy as np\n",
    "\n",
    "# Create a null vector of size 10\n",
    "null_vector = np.zeros(10)\n",
    "\n",
    "# Update the sixth value to 11\n",
    "null_vector[5] = 11\n",
    "\n",
    "# Print the updated null vector\n",
    "print(null_vector)\n"
   ]
  },
  {
   "cell_type": "code",
   "execution_count": null,
   "id": "49122b05",
   "metadata": {},
   "outputs": [],
   "source": []
  }
 ],
 "metadata": {
  "kernelspec": {
   "display_name": "Python 3 (ipykernel)",
   "language": "python",
   "name": "python3"
  },
  "language_info": {
   "codemirror_mode": {
    "name": "ipython",
    "version": 3
   },
   "file_extension": ".py",
   "mimetype": "text/x-python",
   "name": "python",
   "nbconvert_exporter": "python",
   "pygments_lexer": "ipython3",
   "version": "3.9.12"
  }
 },
 "nbformat": 4,
 "nbformat_minor": 5
}
